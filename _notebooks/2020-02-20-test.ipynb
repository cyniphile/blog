{
 "cells": [
  {
   "cell_type": "markdown",
   "metadata": {},
   "source": [
    "# Notes On A Year Off\n",
    "> The things I did to try to overcome a quarter life crisis in quarantine while unemployed (aside from you-know-what). \n",
    "\n",
    "- toc: true \n",
    "- badges: true\n",
    "- comments: true\n",
    "- categories: [jupyter]\n",
    "- image: images/chart-preview.png"
   ]
  },
  {
   "cell_type": "markdown",
   "metadata": {},
   "source": [
    "![my bloody valentine](https://www.boardgamehalv.com/wp-content/uploads/2019/07/Dominion1_game_1050x700-770x513.jpg)"
   ]
  },
  {
   "cell_type": "markdown",
   "metadata": {},
   "source": [
    "\"You know what\" is \"playing a depressing amount of video games\", in my case, [Dominion](https://dominion.games/) {% fn 15 %}.\n",
    "\n",
    "\n",
    "$$ e = mc^2$$\n",
    "\n",
    "Lorem ipsum dolor sit amet, consectetur adipiscing elit. Donec euismod eget ex non elementum. Vestibulum ante ipsum primis in faucibus orci luctus et ultrices posuere cubilia curae; Ut eget nulla eu sapien tempor tempus ut eget nunc. Phasellus id dolor vitae eros dictum consequat. Donec lobortis cursus magna, non vulputate nisi ultrices et. Donec at scelerisque lacus. Nullam ut tellus ipsum. Sed condimentum maximus nulla semper dictum. Aliquam dignissim enim nec viverra imperdiet. Integer ac condimentum odio, a aliquet velit."
   ]
  },
  {
   "cell_type": "code",
   "execution_count": 3,
   "metadata": {},
   "outputs": [],
   "source": [
    "def hey(thing):\n",
    "    if thing:\n",
    "        print(\"what's up?\")\n",
    "    else:\n",
    "        print(\"don't you dare\")"
   ]
  },
  {
   "cell_type": "markdown",
   "metadata": {},
   "source": [
    "Integer pellentesque tincidunt quam ac vulputate. Aliquam ornare purus sed lorem maximus porta. Sed venenatis aliquet placerat. Sed in ultricies nulla, vitae fringilla sapien. Maecenas vitae velit id dui tincidunt blandit. Sed mauris orci, rhoncus quis consectetur sed, vestibulum vel massa. Pellentesque finibus lorem ac dui dapibus, in varius elit mollis. Suspendisse auctor venenatis lacinia. Interdum et malesuada fames ac ante ipsum primis in faucibus.\n",
    "\n",
    "Praesent sed ex eget sapien viverra bibendum a sed libero. Curabitur congue lectus sed magna bibendum, nec accumsan eros bibendum. In hac habitasse platea dictumst. Nunc euismod ante bibendum commodo sagittis. Pellentesque risus nisi, iaculis in ullamcorper at, tempus sit amet diam. Donec dignissim nibh nec augue vulputate eleifend. Donec egestas nec mauris nec vulputate. Aliquam iaculis sapien vel vehicula pharetra. Duis auctor, augue vitae finibus lacinia, risus tellus tempor nunc, at lobortis mauris ligula hendrerit est. Nullam at elementum odio.\n",
    "\n",
    "Nulla facilisi. Sed nec nisi blandit, elementum sapien quis, vestibulum ipsum. Mauris ac enim pellentesque, imperdiet nisl et, sollicitudin enim. In aliquet ornare rutrum. Praesent sagittis tincidunt scelerisque. Phasellus elit ligula, laoreet id dictum imperdiet, egestas eu leo. Sed elementum porta sapien. Orci varius natoque penatibus et magnis dis parturient montes, nascetur ridiculus mus. Phasellus euismod, ante ac imperdiet finibus, tortor massa porttitor odio, non ultricies enim sem a magna. Integer aliquet ullamcorper imperdiet. Donec tellus tortor, eleifend in velit sit amet, ultricies placerat elit. Nullam augue risus, dignissim quis consectetur non, ullamcorper sit amet ipsum.\n",
    "\n",
    "Praesent odio nulla, semper vitae cursus ut, varius quis tellus. Maecenas porttitor, metus non bibendum malesuada, enim turpis suscipit risus, sed eleifend nibh diam vulputate risus. Ut sed tellus quis elit scelerisque fringilla et gravida tortor. Proin tempus ante sem, eu tincidunt felis convallis ut. Suspendisse potenti. Cras convallis dui sit amet suscipit convallis. Curabitur suscipit faucibus sapien eget vehicula. Praesent id erat augue.\n",
    "\n",
    "Lorem ipsum dolor sit amet, consectetur adipiscing elit. Donec euismod eget ex non elementum. Vestibulum ante ipsum primis in faucibus orci luctus et ultrices posuere cubilia curae; Ut eget nulla eu sapien tempor tempus ut eget nunc. Phasellus id dolor vitae eros dictum consequat. Donec lobortis cursus magna, non vulputate nisi ultrices et. Donec at scelerisque lacus. Nullam ut tellus ipsum. Sed condimentum maximus nulla semper dictum. Aliquam dignissim enim nec viverra imperdiet. Integer ac condimentum odio, a aliquet velit.\n",
    "\n",
    "Integer pellentesque tincidunt quam ac vulputate. Aliquam ornare purus sed lorem maximus porta. Sed venenatis aliquet placerat. Sed in ultricies nulla, vitae fringilla sapien. Maecenas vitae velit id dui tincidunt blandit. Sed mauris orci, rhoncus quis consectetur sed, vestibulum vel massa. Pellentesque finibus lorem ac dui dapibus, in varius elit mollis. Suspendisse auctor venenatis lacinia. Interdum et malesuada fames ac ante ipsum primis in faucibus.\n",
    "\n",
    "Praesent sed ex eget sapien viverra bibendum a sed libero. Curabitur congue lectus sed magna bibendum, nec accumsan eros bibendum. In hac habitasse platea dictumst. Nunc euismod ante bibendum commodo sagittis. Pellentesque risus nisi, iaculis in ullamcorper at, tempus sit amet diam. Donec dignissim nibh nec augue vulputate eleifend. Donec egestas nec mauris nec vulputate. Aliquam iaculis sapien vel vehicula pharetra. Duis auctor, augue vitae finibus lacinia, risus tellus tempor nunc, at lobortis mauris ligula hendrerit est. Nullam at elementum odio.\n",
    "\n",
    "Nulla facilisi. Sed nec nisi blandit, elementum sapien quis, vestibulum ipsum. Mauris ac enim pellentesque, imperdiet nisl et, sollicitudin enim. In aliquet ornare rutrum. Praesent sagittis tincidunt scelerisque. Phasellus elit ligula, laoreet id dictum imperdiet, egestas eu leo. Sed elementum porta sapien. Orci varius natoque penatibus et magnis dis parturient montes, nascetur ridiculus mus. Phasellus euismod, ante ac imperdiet finibus, tortor massa porttitor odio, non ultricies enim sem a magna. Integer aliquet ullamcorper imperdiet. Donec tellus tortor, eleifend in velit sit amet, ultricies placerat elit. Nullam augue risus, dignissim quis consectetur non, ullamcorper sit amet ipsum.\n",
    "\n",
    "Praesent odio nulla, semper vitae cursus ut, varius quis tellus. Maecenas porttitor, metus non bibendum malesuada, enim turpis suscipit risus, sed eleifend nibh diam vulputate risus. Ut sed tellus quis elit scelerisque fringilla et gravida tortor. Proin tempus ante sem, eu tincidunt felis convallis ut. Suspendisse potenti. Cras convallis dui sit amet suscipit convallis. Curabitur suscipit faucibus sapien eget vehicula. Praesent id erat augue.\n",
    "\n",
    "{{ \"Though Dominion is technically a physical card game that can be played on the computer.\" | fndetail: 15 }}"
   ]
  },
  {
   "cell_type": "code",
   "execution_count": null,
   "metadata": {},
   "outputs": [],
   "source": []
  }
 ],
 "metadata": {
  "kernelspec": {
   "display_name": "Python 3",
   "language": "python",
   "name": "python3"
  },
  "language_info": {
   "codemirror_mode": {
    "name": "ipython",
    "version": 3
   },
   "file_extension": ".py",
   "mimetype": "text/x-python",
   "name": "python",
   "nbconvert_exporter": "python",
   "pygments_lexer": "ipython3",
   "version": "3.7.3"
  },
  "varInspector": {
   "cols": {
    "lenName": 16,
    "lenType": 16,
    "lenVar": 40
   },
   "kernels_config": {
    "python": {
     "delete_cmd_postfix": "",
     "delete_cmd_prefix": "del ",
     "library": "var_list.py",
     "varRefreshCmd": "print(var_dic_list())"
    },
    "r": {
     "delete_cmd_postfix": ") ",
     "delete_cmd_prefix": "rm(",
     "library": "var_list.r",
     "varRefreshCmd": "cat(var_dic_list()) "
    }
   },
   "types_to_exclude": [
    "module",
    "function",
    "builtin_function_or_method",
    "instance",
    "_Feature"
   ],
   "window_display": false
  }
 },
 "nbformat": 4,
 "nbformat_minor": 4
}
